{
 "cells": [
  {
   "cell_type": "markdown",
   "metadata": {},
   "source": [
    "<img src=\"./img/Logo_Universite_Avignon.svg\" alt=\"Logo-Univ-Avignon\" style=\"height: 10em;\"/> \n",
    " \n",
    "<font size=+3>L1 Informatique $-$ S2 $-$ Arithmétique</font>"
   ]
  },
  {
   "cell_type": "markdown",
   "metadata": {},
   "source": [
    "# TD1 $-$ Diviseurs $-$ Facteurs premiers\n",
    "**Remarques**\n",
    "\n",
    "* Dans les exercices suivant, seules les justifications auront de l'importance, pas le résultat.\n",
    "\n",
    "* Calcul mental : décrire votre méthode et **toutes** les opérations effectuées.\n",
    "\n",
    "* Si calculatrice autorisée : écrire **tous** les calculs utilisés.\n",
    "\n",
    "* Script demandé : utiliser Python3, et **inclure l'énoncé**.\n",
    "\n",
    "\n",
    "Pour faire les exercices 1 à 4, aucune connaissance particulière n'est nécessaire, ce qui ne sera pas le cas pour les prochains TD.\n",
    "Par exemple, il est interdit ici d'utiliser l'algorithme d'Euclide (ou la fonction d'une calculatrice) pour déterminer un PGCD.\n",
    "\n",
    "\n",
    "**Important :** Ne passer que 5 minutes par script, ils sont courts ; ou bien vous savez faire vite, ou bien vous passez à la suite. _Ne pas perdre de temps._\n",
    "\n",
    "\n",
    ">**Rappel** : Avec $a$ et $n$ des entiers naturels non nuls.  \n",
    ">Pour savoir si $a$ divise $n$ avec Python, on teste si le reste de la division euclidienne de $n$ par $a$ est nul : ```n%a == 0```\n"
   ]
  },
  {
   "cell_type": "code",
   "execution_count": 1,
   "metadata": {},
   "outputs": [
    {
     "name": "stdout",
     "output_type": "stream",
     "text": [
      "5 divise 105\n"
     ]
    }
   ],
   "source": [
    "n, a = 105, 5\n",
    "if n%a == 0:\n",
    "    print(a, \"divise\", n)"
   ]
  },
  {
   "cell_type": "markdown",
   "metadata": {},
   "source": [
    "## Exercice 1\n",
    "1. Vérifier que la somme des diviseurs de $105$ est $192$. _Deux méthodes sont demandées : calcul mental uniquement, ou sinon utiliser un script._\n",
    "  \n",
    "2. Lister les diviseurs de : $12, 36, 52, 104$. _Calcul mental._\n",
    "\n",
    "3. Calculer la somme des entiers inférieurs à un million qui sont divisibles par $3$ ou par $5$ ?\n",
    "\n",
    "4. Quels sont les diviseurs communs à $105$ et $165$ ? Quel est le plus grand d'entre eux ?  \n",
    "On le note $\\textrm{PGCD}(105, 165)$. _Deux méthodes : calcul mental, script._"
   ]
  },
  {
   "cell_type": "code",
   "execution_count": 2,
   "metadata": {},
   "outputs": [
    {
     "name": "stdout",
     "output_type": "stream",
     "text": [
      "[1, 2, 8, 9, 10]\n",
      "10\n"
     ]
    }
   ],
   "source": [
    "# Astuce pour construire l'intersection de deux listes\n",
    "maListe1 = [1,2,3,4,8,9,10]\n",
    "maListe2 = [1,2,8,9,10,17,33]\n",
    "\n",
    "com12 = [] # initialisation liste vide\n",
    "for x in maListe1:\n",
    "    if x in maListe2:\n",
    "        com12.append(x) # on ajoute x à l'intersection\n",
    "\n",
    "print(com12)\n",
    "print(max(com12))"
   ]
  },
  {
   "cell_type": "code",
   "execution_count": 3,
   "metadata": {},
   "outputs": [
    {
     "name": "stdout",
     "output_type": "stream",
     "text": [
      "10\n"
     ]
    }
   ],
   "source": [
    "# Variante en une ligne\n",
    "print(max([x for x in maListe1 if x in maListe2]))"
   ]
  },
  {
   "cell_type": "markdown",
   "metadata": {},
   "source": [
    "## Exercice 2\n",
    "1. Donner la liste des nombres premiers jusqu'à $50$. _Calcul mental_.\n",
    "\n",
    "2. _Ici calculatrice autorisée, mais uniquement pour des divisions._  \n",
    "   1. Décomposer $48\\;400$ en produit de facteurs premiers.   \n",
    "   2. Dans $\\{91, 101, 103\\}$, y a-t-il des nombres premiers ?\n",
    "   3. Décomposer $4\\;953\\;851$ en produit de facteurs premiers.\n",
    "\n",
    "3. Détailler le calcul : $A = \\dfrac{6}{391} + \\dfrac{11}{414}$\n",
    "\n",
    "3. Écrire $\\sqrt{511\\;104}$ sous la forme $a\\sqrt{b}$, avec $a$ et $b$ entiers, et $b$ le plus petit possible.\n",
    "\n",
    "3. Donner la décomposition en facteurs premiers de $15!$. _Calcul mental_.  \n",
    "_Rappel :_ $15! = 1×2×3×4×\\dots×13×14×15$\n",
    "\n",
    "4. Quel est le plus grand facteur premier de $600\\;851\\;475\\;143$ ? _Script_.\n",
    "\n",
    "5. Quel est le plus grand facteur premier de $14\\;837\\;457\\;737$ ?  _Script_."
   ]
  },
  {
   "cell_type": "markdown",
   "metadata": {},
   "source": [
    "## Exercice 3\n",
    "$p$, $q$, $r$ sont des nombres premiers distincts.\n",
    "1. Quelle est la décomposition en facteurs premiers de $(p^5q^7r)×(p^2q)$ ?\n",
    "2. Quels sont les diviseurs de $p^5$ ?\n",
    "3. Quels sont les diviseurs de $p^2q$ ?\n",
    "4. Quels sont les diviseurs de $pqr$ ?\n",
    "5. Quel est le PGCD de $pq$ et $qr$ ?"
   ]
  },
  {
   "cell_type": "markdown",
   "metadata": {},
   "source": [
    "## Exercice 4\n",
    "Sachant que l'on a $96842 = 256×375 + 842$, déterminer avec le moins de calcul possible les restes et quotients des divisions euclidiennes de $96842$ par $256$ et par $375$."
   ]
  },
  {
   "cell_type": "markdown",
   "metadata": {},
   "source": [
    "## Exercice 5\n",
    "Une série plus difficile ; méthodes au choix. (Scripts conseillés pour 1, 2, 3.)  \n",
    "Des connaissances du lycée sont nécessaires ici, parfois.  \n",
    "Nous reviendrons sur (1, 3) avec de nouvelles méthodes plus tard.\n",
    "\n",
    "1. Par quel chiffre doit-on remplacer les zéros de $120450$ pour qu'il soit divisible par $99$ ?\n",
    "\n",
    "2. Les nombres de la forme $2^{2^n}-1$ où $n \\in \\mathbb{N}$, sont-ils tous premiers ?\n",
    "\n",
    "3. Vérifier que pour tout $n \\in [\\![0..100]\\!]$, et $p \\in [\\![0..50]\\!]$ avec $p$ premier, on a : $n^p-n$ est divisible par $p$.\n",
    "\n",
    "4. On sait que $n=p^aq^b$, avec $p$ et $q$ premiers distincts. On sait que $n^2$ possède $81$ diviseurs. Combien $n^3$ a-t-il de diviseurs.\n",
    "\n",
    "5. Soit $p$ un nombre premier tel que $2^p-1$ soit premier. On considère $n = (2^p-1)×2^{p-1}$. Prouver que la somme des diviseurs de $n$ est égale à $2n$.\n",
    "\n",
    "6. Montrer que $5$ est le seul nombre premier de la forme $n^4+4$.\n",
    "\n",
    "7. Montrer par récurrence que pour tout entier $n$ le nombre $3^{2n+1} + 2^{n+2}$ est divisible par $7$.\n",
    "\n",
    "8. Quel est le plus petit entier divisible par tous les entiers de $1$ à $20$ ? _Sans script_.  \n",
    "(Et de $1$ à $200$ ? _Avec script_)"
   ]
  },
  {
   "cell_type": "markdown",
   "metadata": {},
   "source": [
    "## Exercice 6\n",
    "**Un problème indispensable** : ici on jette les bases d'une méthode pour factoriser très rapidement une grande quantité de 'petits' nombres.\n",
    "\n",
    "Construire la liste ```factorMini``` **indexée à zéro**, de longueur un million, telle que :\n",
    "* ```factorMini[0] = 0```, inutilisé.\n",
    "* ```factorMini[1] = 1```, inutilisé.\n",
    "* ```factorMini[n] = 1```, pour tout nombre premier $n$.\n",
    "* ```factorMini[n] = p```, où $p$ est le plus petit facteur premier de $n$ composé.\n",
    "\n",
    "Cette [liste](https://oeis.org/A107286) commence donc par : ```[0, 1, 1, 1, 2, 1, 2, 1, 2, 3, ...```\n",
    "\n",
    "Par exemple, en 9<sup>ème</sup> position, $9$ est composé et son plus petit facteur premier est $3$. \n",
    "\n",
    "\n",
    "**Conseil :** s'inspirer du crible d'Ératosthène."
   ]
  },
  {
   "cell_type": "markdown",
   "metadata": {},
   "source": [
    "## Exercise seven\n",
    "**Homework :** Those problems have english description and use online judge.\n",
    "\n",
    "1. http://www.spoj.com/problems/TEST/\n",
    "\n",
    "1. http://www.spoj.com/problems/SMPDIV/\n",
    "\n",
    "1. http://www.spoj.com/problems/STRHH/\n",
    "\n",
    "1. http://www.spoj.com/problems/ALCATRAZ1/\n",
    "\n",
    "2. http://www.spoj.com/problems/PRIME1/\n",
    "\n",
    "2. http://www.spoj.com/problems/AMR11E/\n",
    "\n",
    "3. http://www.spoj.com/problems/ENIGMATH/\n",
    "\n",
    "4. https://projecteuler.net/problem=23"
   ]
  }
 ],
 "metadata": {
  "celltoolbar": "Raw Cell Format",
  "kernelspec": {
   "display_name": "Python 3",
   "language": "python",
   "name": "python3"
  },
  "language_info": {
   "codemirror_mode": {
    "name": "ipython",
    "version": 3
   },
   "file_extension": ".py",
   "mimetype": "text/x-python",
   "name": "python",
   "nbconvert_exporter": "python",
   "pygments_lexer": "ipython3",
   "version": "3.6.3"
  }
 },
 "nbformat": 4,
 "nbformat_minor": 2
}
